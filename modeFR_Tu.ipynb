{
 "cells": [
  {
   "cell_type": "markdown",
   "id": "2fd0576b-8eab-4ddd-879b-98b114be2c64",
   "metadata": {},
   "source": [
    "# modeFRONTIERのチュートリアル"
   ]
  },
  {
   "cell_type": "code",
   "execution_count": 1,
   "id": "8e40a569-8d90-4f01-bf58-4d61992da8c9",
   "metadata": {},
   "outputs": [],
   "source": [
    "from dataclasses import dataclass\n",
    "import torch\n",
    "import numpy as np"
   ]
  },
  {
   "cell_type": "markdown",
   "id": "491c394f-32d4-42e6-8d86-e954df22ba23",
   "metadata": {
    "tags": []
   },
   "source": [
    "### ダブルT断面の梁の寸法"
   ]
  },
  {
   "cell_type": "code",
   "execution_count": 2,
   "id": "06118a62-afdd-4be3-b669-d3effbc8990a",
   "metadata": {},
   "outputs": [],
   "source": [
    "@dataclass(frozen=True)\n",
    "class DoubleT:\n",
    "    a: tuple[float] = (0.001, 0.01)\n",
    "    b: tuple[float] = (0.05, 0.15)\n",
    "    c: tuple[float] = (0.05, 0.25)"
   ]
  },
  {
   "cell_type": "markdown",
   "id": "33cb2e95-ceb5-4973-a019-f878308b5d3b",
   "metadata": {},
   "source": [
    "### 入力値"
   ]
  },
  {
   "cell_type": "code",
   "execution_count": 3,
   "id": "60b17cf1-b005-44b2-a42a-75628fb2575e",
   "metadata": {},
   "outputs": [],
   "source": [
    "@dataclass(frozen=True)\n",
    "class Constant:\n",
    "    young: float = 2.0E+11\n",
    "    lenght: float = 3.0\n",
    "    density: float = 8000.0\n",
    "    force: float = 2000.0"
   ]
  },
  {
   "cell_type": "markdown",
   "id": "0c051459-b8c2-4931-8075-a91b9fa9698a",
   "metadata": {},
   "source": [
    "### Sobol配列"
   ]
  },
  {
   "cell_type": "code",
   "execution_count": 4,
   "id": "8f90d785-44f8-413b-9381-69dfde5485ed",
   "metadata": {},
   "outputs": [],
   "source": [
    "soboleng = torch.quasirandom.SobolEngine(dimension=3)\n",
    "array_sobol = np.array(soboleng.draw(20))"
   ]
  },
  {
   "cell_type": "code",
   "execution_count": 5,
   "id": "a2cb6590-01f3-4430-9899-e1cefc34889d",
   "metadata": {},
   "outputs": [
    {
     "data": {
      "text/plain": [
       "array([[0.     , 0.     , 0.     ],\n",
       "       [0.5    , 0.5    , 0.5    ],\n",
       "       [0.75   , 0.25   , 0.25   ],\n",
       "       [0.25   , 0.75   , 0.75   ],\n",
       "       [0.375  , 0.375  , 0.625  ],\n",
       "       [0.875  , 0.875  , 0.125  ],\n",
       "       [0.625  , 0.125  , 0.875  ],\n",
       "       [0.125  , 0.625  , 0.375  ],\n",
       "       [0.1875 , 0.3125 , 0.9375 ],\n",
       "       [0.6875 , 0.8125 , 0.4375 ],\n",
       "       [0.9375 , 0.0625 , 0.6875 ],\n",
       "       [0.4375 , 0.5625 , 0.1875 ],\n",
       "       [0.3125 , 0.1875 , 0.3125 ],\n",
       "       [0.8125 , 0.6875 , 0.8125 ],\n",
       "       [0.5625 , 0.4375 , 0.0625 ],\n",
       "       [0.0625 , 0.9375 , 0.5625 ],\n",
       "       [0.09375, 0.46875, 0.46875],\n",
       "       [0.59375, 0.96875, 0.96875],\n",
       "       [0.84375, 0.21875, 0.21875],\n",
       "       [0.34375, 0.71875, 0.71875]], dtype=float32)"
      ]
     },
     "execution_count": 5,
     "metadata": {},
     "output_type": "execute_result"
    }
   ],
   "source": [
    "array_sobol"
   ]
  },
  {
   "cell_type": "markdown",
   "id": "2171a7b0-db85-4676-a940-e54f7c010048",
   "metadata": {},
   "source": [
    "### Sobol配列を指定範囲内に変換"
   ]
  },
  {
   "cell_type": "code",
   "execution_count": 6,
   "id": "aeb6b2a7-af01-4085-b04c-2dfcde079a72",
   "metadata": {},
   "outputs": [],
   "source": [
    "params = DoubleT()"
   ]
  },
  {
   "cell_type": "code",
   "execution_count": 7,
   "id": "81451b44-32c3-43ef-a5d8-a354bf14529e",
   "metadata": {},
   "outputs": [],
   "source": [
    "array_multi = np.array([params.a[1] - params.a[0],\n",
    "                        params.b[1] - params.b[0],\n",
    "                        params.c[1] - params.c[0]])"
   ]
  },
  {
   "cell_type": "code",
   "execution_count": 9,
   "id": "fd2b8284-74b1-4062-9fdf-56c827e2860b",
   "metadata": {},
   "outputs": [],
   "source": [
    "array_add = np.array([params.a[0], params.b[0], params.c[0]])"
   ]
  },
  {
   "cell_type": "code",
   "execution_count": 10,
   "id": "e267de1f-37be-40b4-a6f1-4b46e75012ed",
   "metadata": {},
   "outputs": [],
   "source": [
    "sobol = array_sobol * array_multi + array_add"
   ]
  },
  {
   "cell_type": "code",
   "execution_count": 11,
   "id": "88072b67-92b3-4f7f-80ec-66862d9a4085",
   "metadata": {},
   "outputs": [
    {
     "data": {
      "text/plain": [
       "array([[0.001     , 0.05      , 0.05      ],\n",
       "       [0.0055    , 0.1       , 0.15      ],\n",
       "       [0.00775   , 0.075     , 0.1       ],\n",
       "       [0.00325   , 0.125     , 0.2       ],\n",
       "       [0.004375  , 0.0875    , 0.175     ],\n",
       "       [0.008875  , 0.1375    , 0.075     ],\n",
       "       [0.006625  , 0.0625    , 0.225     ],\n",
       "       [0.002125  , 0.1125    , 0.125     ],\n",
       "       [0.0026875 , 0.08125   , 0.2375    ],\n",
       "       [0.0071875 , 0.13125   , 0.1375    ],\n",
       "       [0.0094375 , 0.05625   , 0.1875    ],\n",
       "       [0.0049375 , 0.10625   , 0.0875    ],\n",
       "       [0.0038125 , 0.06875   , 0.1125    ],\n",
       "       [0.0083125 , 0.11875   , 0.2125    ],\n",
       "       [0.0060625 , 0.09375   , 0.0625    ],\n",
       "       [0.0015625 , 0.14375   , 0.1625    ],\n",
       "       [0.00184375, 0.096875  , 0.14375   ],\n",
       "       [0.00634375, 0.146875  , 0.24375   ],\n",
       "       [0.00859375, 0.071875  , 0.09375   ],\n",
       "       [0.00409375, 0.121875  , 0.19375   ]])"
      ]
     },
     "execution_count": 11,
     "metadata": {},
     "output_type": "execute_result"
    }
   ],
   "source": [
    "sobol"
   ]
  },
  {
   "cell_type": "code",
   "execution_count": null,
   "id": "30971f95-68de-4089-a043-f383a9f615ec",
   "metadata": {},
   "outputs": [],
   "source": []
  }
 ],
 "metadata": {
  "kernelspec": {
   "display_name": "Python 3 (ipykernel)",
   "language": "python",
   "name": "python3"
  },
  "language_info": {
   "codemirror_mode": {
    "name": "ipython",
    "version": 3
   },
   "file_extension": ".py",
   "mimetype": "text/x-python",
   "name": "python",
   "nbconvert_exporter": "python",
   "pygments_lexer": "ipython3",
   "version": "3.10.5"
  }
 },
 "nbformat": 4,
 "nbformat_minor": 5
}
